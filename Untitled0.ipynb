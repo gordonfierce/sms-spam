{
 "metadata": {
  "name": "",
  "signature": "sha256:26c5cd6ffe906b985ece920e5541cb805ed0bd68d45f8accb27a6074f71178b4"
 },
 "nbformat": 3,
 "nbformat_minor": 0,
 "worksheets": [
  {
   "cells": [
    {
     "cell_type": "code",
     "collapsed": false,
     "input": [
      "import numpy as np\n",
      "import pandas as pd\n",
      "import sklearn as skl\n",
      "import matplotlib.pyplot as plt\n",
      "import re\n",
      "from sklearn.cross_validation import train_test_split\n",
      "from textblob import TextBlob\n",
      "from sklearn import metrics"
     ],
     "language": "python",
     "metadata": {},
     "outputs": [],
     "prompt_number": 114
    },
    {
     "cell_type": "code",
     "collapsed": false,
     "input": [
      "%matplotlib inline"
     ],
     "language": "python",
     "metadata": {},
     "outputs": [],
     "prompt_number": 115
    },
    {
     "cell_type": "code",
     "collapsed": false,
     "input": [
      "sms_data = pd.read_csv('SMSSpamCollection', sep='\\t', header=None)"
     ],
     "language": "python",
     "metadata": {},
     "outputs": [],
     "prompt_number": 116
    },
    {
     "cell_type": "code",
     "collapsed": false,
     "input": [
      "sms_data.columns = [\"spam\", \"text\"]"
     ],
     "language": "python",
     "metadata": {},
     "outputs": [],
     "prompt_number": 117
    },
    {
     "cell_type": "code",
     "collapsed": false,
     "input": [
      "sms_data[\"is_spam\"] = sms_data[\"spam\"].map(lambda x: 1 if x == \"spam\" else 0)"
     ],
     "language": "python",
     "metadata": {},
     "outputs": [],
     "prompt_number": 118
    },
    {
     "cell_type": "code",
     "collapsed": false,
     "input": [
      "sms_data = sms_data.drop('spam', axis=1)"
     ],
     "language": "python",
     "metadata": {},
     "outputs": [],
     "prompt_number": 119
    },
    {
     "cell_type": "code",
     "collapsed": false,
     "input": [
      "!python -m textblob.download_corpora"
     ],
     "language": "python",
     "metadata": {},
     "outputs": [
      {
       "output_type": "stream",
       "stream": "stdout",
       "text": [
        "[nltk_data] Downloading package brown to /Users/gordon/nltk_data...\r\n"
       ]
      },
      {
       "output_type": "stream",
       "stream": "stdout",
       "text": [
        "[nltk_data]   Package brown is already up-to-date!\r\n",
        "[nltk_data] Downloading package punkt to /Users/gordon/nltk_data...\r\n",
        "[nltk_data]   Package punkt is already up-to-date!\r\n",
        "[nltk_data] Downloading package wordnet to /Users/gordon/nltk_data...\r\n"
       ]
      },
      {
       "output_type": "stream",
       "stream": "stdout",
       "text": [
        "[nltk_data]   Package wordnet is already up-to-date!\r\n",
        "[nltk_data] Downloading package conll2000 to\r\n",
        "[nltk_data]     /Users/gordon/nltk_data...\r\n",
        "[nltk_data]   Package conll2000 is already up-to-date!\r\n",
        "[nltk_data] Downloading package maxent_treebank_pos_tagger to\r\n",
        "[nltk_data]     /Users/gordon/nltk_data...\r\n"
       ]
      },
      {
       "output_type": "stream",
       "stream": "stdout",
       "text": [
        "[nltk_data]   Package maxent_treebank_pos_tagger is already up-to-\r\n",
        "[nltk_data]       date!\r\n",
        "[nltk_data] Downloading package movie_reviews to\r\n",
        "[nltk_data]     /Users/gordon/nltk_data...\r\n"
       ]
      },
      {
       "output_type": "stream",
       "stream": "stdout",
       "text": [
        "[nltk_data]   Package movie_reviews is already up-to-date!\r\n",
        "Finished.\r\n"
       ]
      }
     ],
     "prompt_number": 120
    },
    {
     "cell_type": "code",
     "collapsed": false,
     "input": [
      "blob.word_counts"
     ],
     "language": "python",
     "metadata": {},
     "outputs": [
      {
       "metadata": {},
       "output_type": "pyout",
       "prompt_number": 121,
       "text": [
        "defaultdict(<class 'int'>, {'la': 1, 'only': 1, 'jurong': 1, 'cine': 1, 'great': 1, 'point': 1, 'got': 1, 'wat': 1, 'n': 1, 'bugis': 1, 'e': 1, 'go': 1, 'buffet': 1, 'in': 1, 'world': 1, 'available': 1, 'amore': 1, 'there': 1, 'until': 1, 'crazy': 1})"
       ]
      }
     ],
     "prompt_number": 121
    },
    {
     "cell_type": "code",
     "collapsed": false,
     "input": [
      "spam_grouping = sms_data.groupby(\"is_spam\")"
     ],
     "language": "python",
     "metadata": {},
     "outputs": [],
     "prompt_number": 122
    },
    {
     "cell_type": "code",
     "collapsed": false,
     "input": [
      "#spam_grouping[\"text\"].hist()"
     ],
     "language": "python",
     "metadata": {},
     "outputs": [],
     "prompt_number": 123
    },
    {
     "cell_type": "markdown",
     "metadata": {},
     "source": [
      "Well, I don't really know what I was expecting here."
     ]
    },
    {
     "cell_type": "code",
     "collapsed": false,
     "input": [
      "sms_data[\"length\"] = sms_data[\"text\"].map(lambda x: len(x))"
     ],
     "language": "python",
     "metadata": {},
     "outputs": [],
     "prompt_number": 124
    },
    {
     "cell_type": "code",
     "collapsed": false,
     "input": [
      "sms_data.head()"
     ],
     "language": "python",
     "metadata": {},
     "outputs": [
      {
       "html": [
        "<div style=\"max-height:1000px;max-width:1500px;overflow:auto;\">\n",
        "<table border=\"1\" class=\"dataframe\">\n",
        "  <thead>\n",
        "    <tr style=\"text-align: right;\">\n",
        "      <th></th>\n",
        "      <th>text</th>\n",
        "      <th>is_spam</th>\n",
        "      <th>length</th>\n",
        "    </tr>\n",
        "  </thead>\n",
        "  <tbody>\n",
        "    <tr>\n",
        "      <th>0</th>\n",
        "      <td> Go until jurong point, crazy.. Available only ...</td>\n",
        "      <td> 0</td>\n",
        "      <td> 111</td>\n",
        "    </tr>\n",
        "    <tr>\n",
        "      <th>1</th>\n",
        "      <td>                     Ok lar... Joking wif u oni...</td>\n",
        "      <td> 0</td>\n",
        "      <td>  29</td>\n",
        "    </tr>\n",
        "    <tr>\n",
        "      <th>2</th>\n",
        "      <td> Free entry in 2 a wkly comp to win FA Cup fina...</td>\n",
        "      <td> 1</td>\n",
        "      <td> 155</td>\n",
        "    </tr>\n",
        "    <tr>\n",
        "      <th>3</th>\n",
        "      <td> U dun say so early hor... U c already then say...</td>\n",
        "      <td> 0</td>\n",
        "      <td>  49</td>\n",
        "    </tr>\n",
        "    <tr>\n",
        "      <th>4</th>\n",
        "      <td> Nah I don't think he goes to usf, he lives aro...</td>\n",
        "      <td> 0</td>\n",
        "      <td>  61</td>\n",
        "    </tr>\n",
        "  </tbody>\n",
        "</table>\n",
        "</div>"
       ],
       "metadata": {},
       "output_type": "pyout",
       "prompt_number": 125,
       "text": [
        "                                                text  is_spam  length\n",
        "0  Go until jurong point, crazy.. Available only ...        0     111\n",
        "1                      Ok lar... Joking wif u oni...        0      29\n",
        "2  Free entry in 2 a wkly comp to win FA Cup fina...        1     155\n",
        "3  U dun say so early hor... U c already then say...        0      49\n",
        "4  Nah I don't think he goes to usf, he lives aro...        0      61"
       ]
      }
     ],
     "prompt_number": 125
    },
    {
     "cell_type": "code",
     "collapsed": false,
     "input": [
      "sms_data.pivot_table('length','is_spam')"
     ],
     "language": "python",
     "metadata": {},
     "outputs": [
      {
       "metadata": {},
       "output_type": "pyout",
       "prompt_number": 126,
       "text": [
        "is_spam\n",
        "0           71.482487\n",
        "1          138.670683\n",
        "Name: length, dtype: float64"
       ]
      }
     ],
     "prompt_number": 126
    },
    {
     "cell_type": "markdown",
     "metadata": {},
     "source": [
      "That's something to work with. Spam is longer by about 2x. On average."
     ]
    },
    {
     "cell_type": "code",
     "collapsed": false,
     "input": [
      "spam_grouping = sms_data.groupby('is_spam')"
     ],
     "language": "python",
     "metadata": {},
     "outputs": [],
     "prompt_number": 127
    },
    {
     "cell_type": "code",
     "collapsed": false,
     "input": [
      "spam_grouping.hist()"
     ],
     "language": "python",
     "metadata": {},
     "outputs": [
      {
       "metadata": {},
       "output_type": "pyout",
       "prompt_number": 128,
       "text": [
        "is_spam\n",
        "0          [[Axes(0.125,0.125;0.775x0.775)]]\n",
        "1          [[Axes(0.125,0.125;0.775x0.775)]]\n",
        "dtype: object"
       ]
      },
      {
       "metadata": {},
       "output_type": "display_data",
       "png": "[encoded data removed]",
       "text": [
        "<matplotlib.figure.Figure at 0x10f550c88>"
       ]
      },
      {
       "metadata": {},
       "output_type": "display_data",
       "png": "[encoded data removed]",
       "text": [
        "<matplotlib.figure.Figure at 0x11027a588>"
       ]
      }
     ],
     "prompt_number": 128
    },
    {
     "cell_type": "markdown",
     "metadata": {},
     "source": [
      "Now, these don't have the same scales, but that about shows the difference."
     ]
    },
    {
     "cell_type": "code",
     "collapsed": false,
     "input": [
      "from sklearn.feature_extraction.text import CountVectorizer"
     ],
     "language": "python",
     "metadata": {},
     "outputs": [],
     "prompt_number": 129
    },
    {
     "cell_type": "code",
     "collapsed": false,
     "input": [
      "vectorizer = CountVectorizer()"
     ],
     "language": "python",
     "metadata": {},
     "outputs": [],
     "prompt_number": 130
    },
    {
     "cell_type": "code",
     "collapsed": false,
     "input": [
      "vectors = vectorizer.fit_transform(sms_data['text'])"
     ],
     "language": "python",
     "metadata": {},
     "outputs": [],
     "prompt_number": 131
    },
    {
     "cell_type": "code",
     "collapsed": false,
     "input": [
      "vectors[0]"
     ],
     "language": "python",
     "metadata": {},
     "outputs": [
      {
       "metadata": {},
       "output_type": "pyout",
       "prompt_number": 132,
       "text": [
        "<1x8713 sparse matrix of type '<class 'numpy.int64'>'\n",
        "\twith 18 stored elements in Compressed Sparse Row format>"
       ]
      }
     ],
     "prompt_number": 132
    },
    {
     "cell_type": "code",
     "collapsed": false,
     "input": [
      "y_data = sms_data.is_spam.values\n",
      "x_data = sms_data[['text', 'length']].values"
     ],
     "language": "python",
     "metadata": {},
     "outputs": [],
     "prompt_number": 133
    },
    {
     "cell_type": "code",
     "collapsed": false,
     "input": [
      "train_x, test_x, train_y, test_y = train_test_split(sms_data[['text', 'length']].values, sms_data['is_spam'].values, test_size=0.3)"
     ],
     "language": "python",
     "metadata": {},
     "outputs": [],
     "prompt_number": 134
    },
    {
     "cell_type": "code",
     "collapsed": false,
     "input": [
      "train_x"
     ],
     "language": "python",
     "metadata": {},
     "outputs": [
      {
       "metadata": {},
       "output_type": "pyout",
       "prompt_number": 135,
       "text": [
        "array([[ 'all the lastest from Stereophonics, Marley, Dizzee Racal, Libertines and The Strokes! Win Nookii games with Flirt!! Click TheMob WAP Bookmark or text WAP to 82468',\n",
        "        162],\n",
        "       ['Oh ho. Is this the first time u use these type of words', 55],\n",
        "       [ 'Goal! Arsenal 4 (Henry, 7 v Liverpool 2 Henry scores with a simple shot from 6 yards from a pass by Bergkamp to give Arsenal a 2 goal margin after 78 mins.',\n",
        "        155],\n",
        "       ..., \n",
        "       ['I dont thnk its a wrong calling between us', 42],\n",
        "       [ \"Carlos is taking his sweet time as usual so let me know when you and patty are done/want to smoke and I'll tell him to haul ass\",\n",
        "        127],\n",
        "       [ 'No. 1 Nokia Tone 4 ur mob every week! Just txt NOK to 87021. 1st Tone FREE ! so get txtin now and tell ur friends. 150p/tone. 16 reply HL 4info',\n",
        "        143]], dtype=object)"
       ]
      }
     ],
     "prompt_number": 135
    },
    {
     "cell_type": "code",
     "collapsed": false,
     "input": [
      "train_y"
     ],
     "language": "python",
     "metadata": {},
     "outputs": [
      {
       "metadata": {},
       "output_type": "pyout",
       "prompt_number": 136,
       "text": [
        "array([1, 0, 1, ..., 0, 0, 1])"
       ]
      }
     ],
     "prompt_number": 136
    },
    {
     "cell_type": "code",
     "collapsed": false,
     "input": [
      "train_x_vectors = vectorizer.fit_transform(train_x[:,0])"
     ],
     "language": "python",
     "metadata": {},
     "outputs": [],
     "prompt_number": 137
    },
    {
     "cell_type": "code",
     "collapsed": false,
     "input": [
      "from sklearn.naive_bayes import BernoulliNB"
     ],
     "language": "python",
     "metadata": {},
     "outputs": [],
     "prompt_number": 138
    },
    {
     "cell_type": "code",
     "collapsed": false,
     "input": [
      "bernoulli = BernoulliNB()"
     ],
     "language": "python",
     "metadata": {},
     "outputs": [],
     "prompt_number": 139
    },
    {
     "cell_type": "code",
     "collapsed": false,
     "input": [
      "bernoulli.fit(train_x_vectors, train_y)"
     ],
     "language": "python",
     "metadata": {},
     "outputs": [
      {
       "metadata": {},
       "output_type": "pyout",
       "prompt_number": 140,
       "text": [
        "BernoulliNB(alpha=1.0, binarize=0.0, class_prior=None, fit_prior=True)"
       ]
      }
     ],
     "prompt_number": 140
    },
    {
     "cell_type": "code",
     "collapsed": false,
     "input": [
      "test_x_vectors = vectorizer.transform(test_x[:,0])"
     ],
     "language": "python",
     "metadata": {},
     "outputs": [],
     "prompt_number": 141
    },
    {
     "cell_type": "code",
     "collapsed": false,
     "input": [
      "y_predictions = bernoulli.predict(test_x_vectors)"
     ],
     "language": "python",
     "metadata": {},
     "outputs": [],
     "prompt_number": 142
    },
    {
     "cell_type": "code",
     "collapsed": false,
     "input": [
      "print(metrics.f1_score(test_y, y_predictions))"
     ],
     "language": "python",
     "metadata": {},
     "outputs": [
      {
       "output_type": "stream",
       "stream": "stdout",
       "text": [
        "0.906801007557\n"
       ]
      }
     ],
     "prompt_number": 143
    },
    {
     "cell_type": "markdown",
     "metadata": {},
     "source": [
      "Oh, read 'em and weep. That's an '0.91'. Either I've done something horribly wrong, or I've done something totally awesome. Thanks sklearn."
     ]
    },
    {
     "cell_type": "code",
     "collapsed": false,
     "input": [],
     "language": "python",
     "metadata": {},
     "outputs": [],
     "prompt_number": 143
    }
   ],
   "metadata": {}
  }
 ]
}